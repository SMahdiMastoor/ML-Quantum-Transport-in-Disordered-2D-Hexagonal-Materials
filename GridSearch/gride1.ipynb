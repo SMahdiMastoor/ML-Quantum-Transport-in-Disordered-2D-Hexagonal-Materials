{
 "cells": [
  {
   "cell_type": "code",
   "execution_count": 1,
   "id": "e35a6720",
   "metadata": {},
   "outputs": [],
   "source": [
    "import pandas as pd\n",
    "import numpy as np\n",
    "import matplotlib.pyplot as plt\n",
    "\n",
    "\n",
    "from sklearn.model_selection import train_test_split\n",
    "from sklearn.ensemble import RandomForestClassifier\n",
    "from sklearn.ensemble import RandomForestRegressor\n",
    "from sklearn.metrics import accuracy_score\n",
    "from sklearn.metrics import mean_squared_error\n",
    "from sklearn.metrics import f1_score\n",
    "from sklearn.model_selection import GridSearchCV\n",
    "from sklearn.preprocessing import PolynomialFeatures\n",
    "from sklearn.pipeline import Pipeline"
   ]
  },
  {
   "cell_type": "markdown",
   "id": "43ad6d40",
   "metadata": {},
   "source": [
    "grid search for LDOS , RF "
   ]
  },
  {
   "cell_type": "code",
   "execution_count": 2,
   "id": "07d14ab9",
   "metadata": {},
   "outputs": [],
   "source": [
    "data=pd.read_csv('merged_file.csv')"
   ]
  },
  {
   "cell_type": "code",
   "execution_count": null,
   "id": "6fb73d7d",
   "metadata": {},
   "outputs": [],
   "source": [
    "X=data[['W','L','N','nm','hop','energy']].to_numpy()\n",
    "Y=data[['LDOS']].to_numpy()\n",
    "#Y_c=np.rint(Y)\n",
    "X_train, X_test, y_train, y_test = train_test_split(X, Y, train_size=0.2, random_state=13)"
   ]
  },
  {
   "cell_type": "code",
   "execution_count": null,
   "id": "3a8f3a15",
   "metadata": {},
   "outputs": [],
   "source": [
    "# Create a pipeline with PolynomialFeatures + RF\n",
    "pipeline = Pipeline([\n",
    "    ('poly', PolynomialFeatures()),\n",
    "    ('rf', RandomForestRegressor())\n",
    "])\n",
    "\n",
    "# Define parameter grid\n",
    "param_grid = {\n",
    "    'poly__degree': [0,1,2, 3],  # Focus on degrees that worked in validation_curve\n",
    "    'rf__n_estimators': [10, 50, 70,100,200],\n",
    "    'rf__max_depth': [10,15, 20],\n",
    "    'rf__min_samples_split': [2, 5,10],\n",
    "    'rf__max_features': ['sqrt', 'log2']\n",
    "}\n",
    "\n",
    "# Run grid search\n",
    "grid_search = GridSearchCV(\n",
    "    pipeline,\n",
    "    param_grid,\n",
    "    cv=5,\n",
    "    scoring='neg_mean_squared_error',\n",
    "    n_jobs=-1  # Use all CPU cores\n",
    ")\n",
    "grid_search.fit(X_train, y_train)\n",
    "\n",
    "print(\"Best parameters:\", grid_search.best_params_)"
   ]
  },
  {
   "cell_type": "code",
   "execution_count": null,
   "id": "23dc27c3",
   "metadata": {},
   "outputs": [],
   "source": [
    "#clasifier \n",
    "data=pd.read_csv('merged_file.csv')\n",
    "X=data[['W','L','N','nm','hop','energy']].to_numpy()\n",
    "Y=data[['LDOS']].to_numpy()\n",
    "Y_c=np.rint(Y)\n",
    "X_train, X_test, y_train, y_test = train_test_split(X, Y_c, test_size=0.2, random_state=13)"
   ]
  },
  {
   "cell_type": "code",
   "execution_count": null,
   "id": "c357ad8a",
   "metadata": {},
   "outputs": [],
   "source": [
    "# Create a pipeline with PolynomialFeatures + RF\n",
    "pipeline = Pipeline([\n",
    "    ('poly', PolynomialFeatures()),\n",
    "    ('rf', RandomForestClassifier())\n",
    "])\n",
    "\n",
    "# Define parameter grid\n",
    "param_grid = {\n",
    "    'poly__degree': [0,1,2, 3],  # Focus on degrees that worked in validation_curve\n",
    "    'rf__n_estimators': [10, 50, 70,100,200],\n",
    "    'rf__max_depth': [10,15, 20],\n",
    "    'rf__min_samples_split': [2, 5],\n",
    "    'rf__max_features': ['sqrt', 'log2']\n",
    "}\n",
    "\n",
    "# Run grid search\n",
    "grid_search = GridSearchCV(\n",
    "    pipeline,\n",
    "    param_grid,\n",
    "    cv=5,\n",
    "    scoring='neg_mean_squared_error',\n",
    "    n_jobs=-1  # Use all CPU cores\n",
    ")\n",
    "grid_search.fit(X_train, y_train)\n",
    "\n",
    "print(\"Best parameters:\", grid_search.best_params_)"
   ]
  },
  {
   "cell_type": "markdown",
   "id": "a6fbb901",
   "metadata": {},
   "source": [
    "Transmission"
   ]
  },
  {
   "cell_type": "code",
   "execution_count": null,
   "id": "11e565d5",
   "metadata": {},
   "outputs": [],
   "source": [
    "\n",
    "data=pd.read_csv('merged_file.csv')\n",
    "X=data[['W','L','N','nm','hop','energy']].to_numpy()\n",
    "Y=data[['Transmisson']].to_numpy()\n",
    "#Y_c=np.rint(Y)\n",
    "X_train, X_test, y_train, y_test = train_test_split(X, Y_c, test_size=0.2, random_state=13)"
   ]
  },
  {
   "cell_type": "code",
   "execution_count": null,
   "id": "ece321d5",
   "metadata": {},
   "outputs": [],
   "source": [
    "# Create a pipeline with PolynomialFeatures + RF\n",
    "pipeline = Pipeline([\n",
    "    ('poly', PolynomialFeatures()),\n",
    "    ('rf', RandomForestRegressor())\n",
    "])\n",
    "\n",
    "# Define parameter grid\n",
    "param_grid = {\n",
    "    'poly__degree': [0,1,2, 3],  # Focus on degrees that worked in validation_curve\n",
    "    'rf__n_estimators': [10, 50, 70,100,200],\n",
    "    'rf__max_depth': [10,15, 20],\n",
    "    'rf__min_samples_split': [2, 5],\n",
    "    'rf__max_features': ['sqrt', 'log2']\n",
    "}\n",
    "\n",
    "# Run grid search\n",
    "grid_search = GridSearchCV(\n",
    "    pipeline,\n",
    "    param_grid,\n",
    "    cv=5,\n",
    "    scoring='neg_mean_squared_error',\n",
    "    n_jobs=-1  # Use all CPU cores\n",
    ")\n",
    "grid_search.fit(X_train, y_train)\n",
    "\n",
    "print(\"Best parameters:\", grid_search.best_params_)"
   ]
  },
  {
   "cell_type": "code",
   "execution_count": null,
   "id": "a42c94ec",
   "metadata": {},
   "outputs": [],
   "source": [
    "#clasifier \n",
    "data=pd.read_csv('merged_file.csv')\n",
    "X=data[['W','L','N','nm','hop','energy']].to_numpy()\n",
    "Y=data[['Transmisson']].to_numpy()\n",
    "Y_c=np.rint(Y)\n",
    "X_train, X_test, y_train, y_test = train_test_split(X, Y_c, test_size=0.2, random_state=13)"
   ]
  },
  {
   "cell_type": "code",
   "execution_count": null,
   "id": "2c99aebe",
   "metadata": {},
   "outputs": [],
   "source": [
    "# Create a pipeline with PolynomialFeatures + RF\n",
    "pipeline = Pipeline([\n",
    "    ('poly', PolynomialFeatures()),\n",
    "    ('rf', RandomForestClassifier())\n",
    "])\n",
    "\n",
    "# Define parameter grid\n",
    "param_grid = {\n",
    "    'poly__degree': [0,1,2, 3],  # Focus on degrees that worked in validation_curve\n",
    "    'rf__n_estimators': [10, 50, 70,100,200],\n",
    "    'rf__max_depth': [10,15, 20],\n",
    "    'rf__min_samples_split': [2, 5],\n",
    "    'rf__max_features': ['sqrt', 'log2']\n",
    "}\n",
    "\n",
    "# Run grid search\n",
    "grid_search = GridSearchCV(\n",
    "    pipeline,\n",
    "    param_grid,\n",
    "    cv=5,\n",
    "    scoring='neg_mean_squared_error',\n",
    "    n_jobs=-1  # Use all CPU cores\n",
    ")\n",
    "grid_search.fit(X_train, y_train)\n",
    "\n",
    "print(\"Best parameters:\", grid_search.best_params_)"
   ]
  },
  {
   "cell_type": "code",
   "execution_count": null,
   "id": "d778585d",
   "metadata": {},
   "outputs": [],
   "source": [
    "\n",
    "from sklearn.preprocessing import StandardScaler  # Critical for SVR!\n",
    "from sklearn.svm import SVR\n",
    "from sklearn.model_selection import GridSearchCV\n",
    "\n",
    "# Pipeline: Scale data -> SVR with RBF kernel\n",
    "pipeline = Pipeline([\n",
    "    ('scaler', StandardScaler()), \n",
    "    ('svr', SVR(kernel='rbf'))  # RBF for non-linear relationships\n",
    "])\n",
    "\n",
    "# Hyperparameter grid\n",
    "param_grid = {\n",
    "    'svr__C': [0.1, 1, 10, 100, 1000],       # Regularization (higher = fit training data closer)\n",
    "    'svr__gamma': ['scale', 'auto', 0.1, 1],  # Kernel width (lower = broader influence of points)\n",
    "    'svr__epsilon': [0.01, 0.1, 0.5]          # Margin of tolerance for errors\n",
    "}\n",
    "\n",
    "# Grid search\n",
    "grid_search = GridSearchCV(\n",
    "    pipeline,\n",
    "    param_grid,\n",
    "    cv=5,\n",
    "    scoring='neg_mean_squared_error',\n",
    "    n_jobs=-1,\n",
    "    verbose=1\n",
    ")\n",
    "\n",
    "grid_search.fit(X_train, y_train)\n",
    "\n",
    "print(\"Best parameters:\", grid_search.best_params_)\n",
    "print(\"Best MSE:\", -grid_search.best_score_)"
   ]
  }
 ],
 "metadata": {
  "kernelspec": {
   "display_name": "myenv",
   "language": "python",
   "name": "python3"
  },
  "language_info": {
   "codemirror_mode": {
    "name": "ipython",
    "version": 3
   },
   "file_extension": ".py",
   "mimetype": "text/x-python",
   "name": "python",
   "nbconvert_exporter": "python",
   "pygments_lexer": "ipython3",
   "version": "3.12.3"
  }
 },
 "nbformat": 4,
 "nbformat_minor": 5
}
